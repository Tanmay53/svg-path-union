{
 "cells": [
  {
   "cell_type": "code",
   "execution_count": 67,
   "metadata": {},
   "outputs": [
    {
     "data": {
      "image/png": "[encoded data removed]",
      "text/plain": [
       "<Figure size 640x480 with 1 Axes>"
      ]
     },
     "metadata": {},
     "output_type": "display_data"
    },
    {
     "data": {
      "text/plain": [
       "<sympy.plotting.plot.Plot at 0x276b4940e80>"
      ]
     },
     "execution_count": 67,
     "metadata": {},
     "output_type": "execute_result"
    }
   ],
   "source": [
    "from sympy import *\n",
    "\n",
    "t = symbols('t')\n",
    "\n",
    "P0 = Point2D(1, 1)\n",
    "P1 = Point2D(3, 1)\n",
    "P2 = Point2D(2, 2)\n",
    "\n",
    "expr = ((1 - t)**2 * P0) + (2 * (1 - t) * t * P1) + (t**2 * P2)\n",
    "# plot(B, (t, 0, 1))\n",
    "curve = Curve(expr, (t, 0, 1))\n",
    "\n",
    "\n",
    "def plot_curve(B):\n",
    "    return plot_parametric(B.args[0], B.args[1], axis_center=(0, 0), xlim=(0,3), ylim=(0,3))\n",
    "# plot(B)\n",
    "# B.atoms\n",
    "\n",
    "plot_curve(curve)\n",
    "# a = curve.arbitrary_point().x\n",
    "# b = curve.arbitrary_point().y\n",
    "# print(solveset(Eq(a, 1), t))\n",
    "# print(solveset(Eq(b, 1), t))\n",
    "# curve.arbitrary_point().y.subs(t, 4/3)"
   ]
  },
  {
   "cell_type": "code",
   "execution_count": 70,
   "metadata": {},
   "outputs": [
    {
     "data": {
      "text/latex": [
       "$\\displaystyle \\operatorname{Point2D}\\left(- \\frac{3 t^{2}}{4} + \\frac{t}{2} + \\frac{9}{4}, \\frac{t^{2}}{4} + \\frac{t}{2} + \\frac{5}{4}\\right)$"
      ],
      "text/plain": [
       "Point2D(-3*t**2/4 + t/2 + 9/4, t**2/4 + t/2 + 5/4)"
      ]
     },
     "execution_count": 70,
     "metadata": {},
     "output_type": "execute_result"
    }
   ],
   "source": [
    "\n",
    "P3 = Point2D(2.25, 1.25)\n",
    "P4 = Point2D(2.5, 1.5)\n",
    "P5 = Point2D(2, 2)\n",
    "\n",
    "expr2 = ((1 - t)**2 * P3) + (2 * (1 - t) * t * P4) + (t**2 * P5)\n",
    "\n",
    "expr2\n",
    "\n",
    "# curve2 = Curve(expr2, (t, 0, 1)) \n",
    "\n",
    "# plot_curve(curve2)"
   ]
  },
  {
   "cell_type": "code",
   "execution_count": 65,
   "metadata": {},
   "outputs": [
    {
     "name": "stdout",
     "output_type": "stream",
     "text": [
      "[[1, 1], [2.0, 1.0], [2.25, 1.25]] [[2, 2], [2.5, 1.5], [2.25, 1.25]]\n"
     ]
    }
   ],
   "source": [
    "left=[]\n",
    "right=[]\n",
    "def drawCurvePoint(points, t):\n",
    "  if(len(points)==1):\n",
    "    left.append(points[0])\n",
    "    right.append(points[0])\n",
    "    # draw(points[0])\n",
    "  else:\n",
    "    newpoints = [0] * (len(points) - 1)\n",
    "    for i in range(len(newpoints)):\n",
    "      if(i==0):\n",
    "        left.append(points[i])\n",
    "      if(i == (len(newpoints) - 1)):\n",
    "        right.append(points[i+1])\n",
    "      newpoints[i] =  add(multiply(points[i], (1 - t)), multiply(points[i+1], t))\n",
    "    drawCurvePoint(newpoints, t)\n",
    "    \n",
    "def multiply(point, constant):\n",
    "    return [ constant * pxy for pxy in point ]\n",
    "\n",
    "def add(point1, point2):\n",
    "    return [ point1[0] + point2[0], point1[1] + point2[1] ]\n",
    "\n",
    "# multiply([1, 2], 4)\n",
    "# add([1, 2], [2, 1])\n",
    "drawCurvePoint([[1, 1], [3, 1], [2, 2]], 0.5)\n",
    "print(left, right)"
   ]
  }
 ],
 "metadata": {
  "kernelspec": {
   "display_name": "Python 3",
   "language": "python",
   "name": "python3"
  },
  "language_info": {
   "codemirror_mode": {
    "name": "ipython",
    "version": 3
   },
   "file_extension": ".py",
   "mimetype": "text/x-python",
   "name": "python",
   "nbconvert_exporter": "python",
   "pygments_lexer": "ipython3",
   "version": "3.10.8 (tags/v3.10.8:aaaf517, Oct 11 2022, 16:50:30) [MSC v.1933 64 bit (AMD64)]"
  },
  "orig_nbformat": 4,
  "vscode": {
   "interpreter": {
    "hash": "2c5708a08a0195701215132f91f0815efd898ab95cc525e7ec84d3d409352294"
   }
  }
 },
 "nbformat": 4,
 "nbformat_minor": 2
}
